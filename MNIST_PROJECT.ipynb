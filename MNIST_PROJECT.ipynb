{
  "nbformat": 4,
  "nbformat_minor": 0,
  "metadata": {
    "colab": {
      "name": "MNIST_PROJECT.ipynb",
      "provenance": [],
      "collapsed_sections": [],
      "authorship_tag": "ABX9TyMA6yn719HaTumSdGtRj0q6",
      "include_colab_link": true
    },
    "kernelspec": {
      "name": "python3",
      "display_name": "Python 3"
    },
    "language_info": {
      "name": "python"
    }
  },
  "cells": [
    {
      "cell_type": "markdown",
      "metadata": {
        "id": "view-in-github",
        "colab_type": "text"
      },
      "source": [
        "<a href=\"https://colab.research.google.com/github/Gennaro1/AML-project/blob/main/MNIST_PROJECT.ipynb\" target=\"_parent\"><img src=\"https://colab.research.google.com/assets/colab-badge.svg\" alt=\"Open In Colab\"/></a>"
      ]
    },
    {
      "cell_type": "markdown",
      "metadata": {
        "id": "VhLeIA7jeVq4"
      },
      "source": [
        "## **Applied Machine Learning - MNIST Project**"
      ]
    },
    {
      "cell_type": "markdown",
      "metadata": {
        "id": "0yCTX5L5fQp_"
      },
      "source": [
        "Bioinformatics, University of Bologna\n",
        "\n",
        "> Gennaro Luciano\n",
        "\n"
      ]
    },
    {
      "cell_type": "markdown",
      "metadata": {
        "id": "V6ym7OztfskW"
      },
      "source": [
        "The **MNIST** Database (Modified National Institute of Standards and Technology database) is a large database that holds a huge number of images represeting handwritten digits from 0 to 9. The database contains 60,000 training images and 10,000 testing images each of them such as grayscale and a size of 28x28 (784 pixels per image).\n",
        "The task is to produce a handwriting classifier based on different machine learning classification methods and to analyze the performances of these methods in terms of performance and accuracy. \n",
        "\n"
      ]
    },
    {
      "cell_type": "code",
      "metadata": {
        "colab": {
          "base_uri": "https://localhost:8080/"
        },
        "id": "yVbLB8DFodQV",
        "outputId": "17df10ea-70e9-4866-9279-878d3c249943"
      },
      "source": [
        "#in order to take track of time\n",
        "from datetime import date, datetime\n",
        "start=datetime.now()\n",
        "!pip install ipython-autotime\n",
        "%load_ext autotime"
      ],
      "execution_count": 2,
      "outputs": [
        {
          "output_type": "stream",
          "name": "stdout",
          "text": [
            "Collecting ipython-autotime\n",
            "  Downloading ipython_autotime-0.3.1-py2.py3-none-any.whl (6.8 kB)\n",
            "Requirement already satisfied: ipython in /usr/local/lib/python3.7/dist-packages (from ipython-autotime) (5.5.0)\n",
            "Requirement already satisfied: traitlets>=4.2 in /usr/local/lib/python3.7/dist-packages (from ipython->ipython-autotime) (5.1.1)\n",
            "Requirement already satisfied: decorator in /usr/local/lib/python3.7/dist-packages (from ipython->ipython-autotime) (4.4.2)\n",
            "Requirement already satisfied: pickleshare in /usr/local/lib/python3.7/dist-packages (from ipython->ipython-autotime) (0.7.5)\n",
            "Requirement already satisfied: pygments in /usr/local/lib/python3.7/dist-packages (from ipython->ipython-autotime) (2.6.1)\n",
            "Requirement already satisfied: pexpect in /usr/local/lib/python3.7/dist-packages (from ipython->ipython-autotime) (4.8.0)\n",
            "Requirement already satisfied: prompt-toolkit<2.0.0,>=1.0.4 in /usr/local/lib/python3.7/dist-packages (from ipython->ipython-autotime) (1.0.18)\n",
            "Requirement already satisfied: simplegeneric>0.8 in /usr/local/lib/python3.7/dist-packages (from ipython->ipython-autotime) (0.8.1)\n",
            "Requirement already satisfied: setuptools>=18.5 in /usr/local/lib/python3.7/dist-packages (from ipython->ipython-autotime) (57.4.0)\n",
            "Requirement already satisfied: wcwidth in /usr/local/lib/python3.7/dist-packages (from prompt-toolkit<2.0.0,>=1.0.4->ipython->ipython-autotime) (0.2.5)\n",
            "Requirement already satisfied: six>=1.9.0 in /usr/local/lib/python3.7/dist-packages (from prompt-toolkit<2.0.0,>=1.0.4->ipython->ipython-autotime) (1.15.0)\n",
            "Requirement already satisfied: ptyprocess>=0.5 in /usr/local/lib/python3.7/dist-packages (from pexpect->ipython->ipython-autotime) (0.7.0)\n",
            "Installing collected packages: ipython-autotime\n",
            "Successfully installed ipython-autotime-0.3.1\n",
            "time: 195 µs (started: 2021-11-25 16:26:56 +00:00)\n"
          ]
        }
      ]
    },
    {
      "cell_type": "markdown",
      "metadata": {
        "id": "o3Ckl7tUnFzt"
      },
      "source": [
        "## Import data\n",
        "Trough the *Keras library* it is possible to retrieve the entire MNIST dataset. "
      ]
    },
    {
      "cell_type": "code",
      "metadata": {
        "id": "MskXwBvbmrhv",
        "colab": {
          "base_uri": "https://localhost:8080/"
        },
        "outputId": "92ea3893-bd0c-46a2-9602-6382802a2bb6"
      },
      "source": [
        "import numpy as np\n",
        "import matplotlib.pyplot as plt\n",
        "import tensorflow as tf\n",
        "from tensorflow import keras \n",
        "from keras.datasets import mnist\n",
        "import seaborn as sns \n",
        "import scipy as sp\n",
        "from scipy.ndimage import interpolation"
      ],
      "execution_count": 3,
      "outputs": [
        {
          "output_type": "stream",
          "name": "stdout",
          "text": [
            "time: 2.54 s (started: 2021-11-25 16:26:56 +00:00)\n"
          ]
        }
      ]
    },
    {
      "cell_type": "code",
      "metadata": {
        "colab": {
          "base_uri": "https://localhost:8080/"
        },
        "id": "c-38w25isndj",
        "outputId": "6dbab7b3-861e-443e-bacf-4cf25bdfa592"
      },
      "source": [
        "# We are loading the dataset and split it into train and test sets \n",
        "mist= keras.datasets.mnist\n",
        "(train_images, train_labels), (test_images, test_labels) = mnist.load_data()\n"
      ],
      "execution_count": 4,
      "outputs": [
        {
          "output_type": "stream",
          "name": "stdout",
          "text": [
            "Downloading data from https://storage.googleapis.com/tensorflow/tf-keras-datasets/mnist.npz\n",
            "11493376/11490434 [==============================] - 0s 0us/step\n",
            "11501568/11490434 [==============================] - 0s 0us/step\n",
            "time: 640 ms (started: 2021-11-25 16:26:59 +00:00)\n"
          ]
        }
      ]
    },
    {
      "cell_type": "markdown",
      "metadata": {
        "id": "6jlDtB_GuxP2"
      },
      "source": [
        "### Data analysis "
      ]
    },
    {
      "cell_type": "code",
      "metadata": {
        "colab": {
          "base_uri": "https://localhost:8080/"
        },
        "id": "XZsRH8q3tt7J",
        "outputId": "63df1085-ef3a-4b1d-fd71-c63da45d5bc3"
      },
      "source": [
        "# Visualize the shape of the train and test sets\n",
        "print(\"train_images:\",train_images.shape)\n",
        "print(\"The number of training labels is:\", len(train_labels))\n",
        "print(\"test_images:\",test_images.shape)\n",
        "print(\"The number of testin labels is:\",len(test_labels))"
      ],
      "execution_count": 5,
      "outputs": [
        {
          "output_type": "stream",
          "name": "stdout",
          "text": [
            "train_images: (60000, 28, 28)\n",
            "The number of training labels is: 60000\n",
            "test_images: (10000, 28, 28)\n",
            "The number of testin labels is: 10000\n",
            "time: 2.13 ms (started: 2021-11-25 16:26:59 +00:00)\n"
          ]
        }
      ]
    },
    {
      "cell_type": "markdown",
      "metadata": {
        "id": "1A7nrtJhx2Zf"
      },
      "source": [
        "When approaching a database, it is very important to familiarize yourself with the data it contains. We are going to inspect the data in the database and analyze the distribution of the classes. "
      ]
    },
    {
      "cell_type": "code",
      "metadata": {
        "colab": {
          "base_uri": "https://localhost:8080/",
          "height": 467
        },
        "id": "FBVBTXnlwKQj",
        "outputId": "af832d9d-856d-42c0-96e3-2341ba29275f"
      },
      "source": [
        "#plotting 15 images of the training dataset and the relative labels\n",
        "fig, axs = plt.subplots(figsize=(12, 10))\n",
        "\n",
        "for number in range(15):\n",
        "  plt.subplot(5, 5, number + 1)\n",
        "  plt.imshow(train_images[number], cmap='gray_r')\n",
        "  plt.xticks([])\n",
        "  plt.yticks([])\n",
        "  plt.grid(False)\n",
        "  plt.title(f'label: {train_labels[number]}')\n",
        "plt.tight_layout()\n",
        "plt.show()"
      ],
      "execution_count": 6,
      "outputs": [
        {
          "output_type": "display_data",
          "data": {
            "image/png": "[encoded data removed]",
            "text/plain": [
              "<Figure size 864x720 with 15 Axes>"
            ]
          },
          "metadata": {}
        },
        {
          "output_type": "stream",
          "name": "stdout",
          "text": [
            "time: 709 ms (started: 2021-11-25 16:26:59 +00:00)\n"
          ]
        }
      ]
    },
    {
      "cell_type": "code",
      "metadata": {
        "colab": {
          "base_uri": "https://localhost:8080/",
          "height": 360
        },
        "id": "8aKo85QVwKI7",
        "outputId": "d5616d95-5d26-4f42-a552-9256ad2c8660"
      },
      "source": [
        "#class distribution for training set\n",
        "class_distribution_train_plot=sns.countplot(train_labels,palette=\"Paired\")\n",
        "class_distribution_train_plot.set(ylabel=\"number of classes\")"
      ],
      "execution_count": 7,
      "outputs": [
        {
          "output_type": "stream",
          "name": "stderr",
          "text": [
            "/usr/local/lib/python3.7/dist-packages/seaborn/_decorators.py:43: FutureWarning: Pass the following variable as a keyword arg: x. From version 0.12, the only valid positional argument will be `data`, and passing other arguments without an explicit keyword will result in an error or misinterpretation.\n",
            "  FutureWarning\n"
          ]
        },
        {
          "output_type": "execute_result",
          "data": {
            "text/plain": [
              "[Text(0, 0.5, 'number of classes')]"
            ]
          },
          "metadata": {},
          "execution_count": 7
        },
        {
          "output_type": "display_data",
          "data": {
            "image/png": "[encoded data removed]",
            "text/plain": [
              "<Figure size 432x288 with 1 Axes>"
            ]
          },
          "metadata": {
            "needs_background": "light"
          }
        },
        {
          "output_type": "stream",
          "name": "stdout",
          "text": [
            "time: 237 ms (started: 2021-11-25 16:27:00 +00:00)\n"
          ]
        }
      ]
    },
    {
      "cell_type": "code",
      "metadata": {
        "colab": {
          "base_uri": "https://localhost:8080/",
          "height": 358
        },
        "id": "9UaEcG77zMTP",
        "outputId": "3a08d084-df54-4d68-f41c-5501d4502b05"
      },
      "source": [
        "#class distribution for testing set\n",
        "class_distribution_test_plot=sns.countplot(test_labels,palette=\"Paired\")\n",
        "class_distribution_test_plot.set(ylabel=\"number of classes\")"
      ],
      "execution_count": 8,
      "outputs": [
        {
          "output_type": "stream",
          "name": "stderr",
          "text": [
            "/usr/local/lib/python3.7/dist-packages/seaborn/_decorators.py:43: FutureWarning: Pass the following variable as a keyword arg: x. From version 0.12, the only valid positional argument will be `data`, and passing other arguments without an explicit keyword will result in an error or misinterpretation.\n",
            "  FutureWarning\n"
          ]
        },
        {
          "output_type": "execute_result",
          "data": {
            "text/plain": [
              "[Text(0, 0.5, 'number of classes')]"
            ]
          },
          "metadata": {},
          "execution_count": 8
        },
        {
          "output_type": "display_data",
          "data": {
            "image/png": "[encoded data removed]",
            "text/plain": [
              "<Figure size 432x288 with 1 Axes>"
            ]
          },
          "metadata": {
            "needs_background": "light"
          }
        },
        {
          "output_type": "stream",
          "name": "stdout",
          "text": [
            "time: 182 ms (started: 2021-11-25 16:27:00 +00:00)\n"
          ]
        }
      ]
    },
    {
      "cell_type": "markdown",
      "metadata": {
        "id": "bKiiOsUH20Nz"
      },
      "source": [
        "## Data manipulation\n",
        "\n",
        "This is a very important step in any machine learning technique because of the importance to provide readable and suited data to the machine learning process.\n",
        "\n",
        "For our purposes, it has been exploited the [Deskewing process](https://fsix.github.io/mnist/Deskewing.html).\n",
        "\n",
        "Deskewing is the process of straightening an image that has been scanned or written crookedly — that is an image that is slanting too far in one direction, or one that is misaligned."
      ]
    },
    {
      "cell_type": "code",
      "metadata": {
        "colab": {
          "base_uri": "https://localhost:8080/"
        },
        "id": "Po_rQ3fh5qu-",
        "outputId": "01bf7910-e94e-4758-ba68-f0e3cb406fc3"
      },
      "source": [
        "def moments(image):\n",
        "    c0,c1 = np.mgrid[:image.shape[0],:image.shape[1]] # A trick in numPy to create a mesh grid\n",
        "    totalImage = np.sum(image) #sum of pixels\n",
        "    m0 = np.sum(c0*image)/totalImage #mu_x\n",
        "    m1 = np.sum(c1*image)/totalImage #mu_y\n",
        "    m00 = np.sum((c0-m0)**2*image)/totalImage #var(x)\n",
        "    m11 = np.sum((c1-m1)**2*image)/totalImage #var(y)\n",
        "    m01 = np.sum((c0-m0)*(c1-m1)*image)/totalImage #covariance(x,y)\n",
        "    mu_vector = np.array([m0,m1]) # Notice that these are \\mu_x, \\mu_y respectively\n",
        "    covariance_matrix = np.array([[m00,m01],[m01,m11]]) # Do you see a similarity between the covariance matrix\n",
        "    return mu_vector, covariance_matrix\n",
        "  \n",
        "def deskew(image):\n",
        "  c,v = moments(image)\n",
        "  alpha = v[0,1]/v[0,0]\n",
        "  affine = np.array([[1,0],[alpha,1]])\n",
        "  ocenter = np.array(image.shape)/2.0\n",
        "  offset = c-np.dot(affine,ocenter)\n",
        "  return interpolation.affine_transform(image,affine,offset=offset)"
      ],
      "execution_count": 9,
      "outputs": [
        {
          "output_type": "stream",
          "name": "stdout",
          "text": [
            "time: 18.9 ms (started: 2021-11-25 16:27:00 +00:00)\n"
          ]
        }
      ]
    },
    {
      "cell_type": "code",
      "metadata": {
        "colab": {
          "base_uri": "https://localhost:8080/",
          "height": 413
        },
        "id": "fjE9ZIiT7APn",
        "outputId": "7ecb33a3-cdd6-4ddf-bc37-5219bc4e14d7"
      },
      "source": [
        "#an example of the Deskwing process \n",
        "fig, axs = plt.subplots(figsize=(3,3))\n",
        "plt.xticks([])\n",
        "plt.yticks([])\n",
        "plt.grid(False)\n",
        "plt.imshow(train_images[21].reshape(28,28))\n",
        "\n",
        "\n",
        "Desk_im=deskew(train_images[21].reshape(28,28))\n",
        "fig, axs = plt.subplots(figsize=(3, 3))\n",
        "plt.xticks([])\n",
        "plt.yticks([])\n",
        "plt.grid(False)\n",
        "plt.imshow(Desk_im)"
      ],
      "execution_count": 10,
      "outputs": [
        {
          "output_type": "execute_result",
          "data": {
            "text/plain": [
              "<matplotlib.image.AxesImage at 0x7f7a4d260d90>"
            ]
          },
          "metadata": {},
          "execution_count": 10
        },
        {
          "output_type": "display_data",
          "data": {
            "image/png": "[encoded data removed]",
            "text/plain": [
              "<Figure size 216x216 with 1 Axes>"
            ]
          },
          "metadata": {}
        },
        {
          "output_type": "display_data",
          "data": {
            "image/png": "[encoded data removed]",
            "text/plain": [
              "<Figure size 216x216 with 1 Axes>"
            ]
          },
          "metadata": {}
        },
        {
          "output_type": "stream",
          "name": "stdout",
          "text": [
            "time: 133 ms (started: 2021-11-25 16:27:00 +00:00)\n"
          ]
        }
      ]
    },
    {
      "cell_type": "code",
      "metadata": {
        "colab": {
          "base_uri": "https://localhost:8080/"
        },
        "id": "qOEtqNJaJTxh",
        "outputId": "3675f09d-f269-4d89-aea9-d36490f2fb39"
      },
      "source": [
        "#at this point, we have to apply this process to our dataset\n",
        "\n",
        "def deskewAll(train_images):\n",
        "    currents = []\n",
        "    for i in range(len(train_images)):\n",
        "        currents.append(deskew(train_images[i].reshape(28,28)).flatten())\n",
        "    return np.array(currents)\n",
        "\n",
        "train_images_deskewed = deskewAll(train_images)\n",
        "test_images_deskewed = deskewAll(test_images)"
      ],
      "execution_count": 11,
      "outputs": [
        {
          "output_type": "stream",
          "name": "stdout",
          "text": [
            "time: 25.3 s (started: 2021-11-25 16:27:01 +00:00)\n"
          ]
        }
      ]
    },
    {
      "cell_type": "markdown",
      "metadata": {
        "id": "nYTyiAOn9lv9"
      },
      "source": [
        "## Decision Tree \n",
        "\n",
        "The first technique is based on the generation of a decision tree that represents a supervised machine learning method exploited for both regression and classification. \n",
        "A decision tree is represented with a tree structure where each internal node denotes a test on an attribute, each branch represent the outcome of the test and each leaf holds a class label. \n"
      ]
    },
    {
      "cell_type": "code",
      "metadata": {
        "colab": {
          "base_uri": "https://localhost:8080/"
        },
        "id": "5CufZbvYKCmo",
        "outputId": "51da5a29-011d-4500-babe-5b8acf1aba6d"
      },
      "source": [
        "#It is important to reshape the data\n",
        "from sklearn import tree\n",
        "\n",
        "train_images=train_images_deskewed.flatten().reshape(60000,784)\n",
        "test_images=test_images_deskewed.flatten().reshape(10000,784)\n",
        "\n",
        "#now it is possible to train our model\n",
        "tree_classifier=tree.DecisionTreeClassifier(max_depth=15)\n",
        "tree_classifier.fit(train_images,train_labels)\n",
        "\n",
        "#test \n",
        "classifier_predictions= tree_classifier.predict(test_images)\n"
      ],
      "execution_count": 12,
      "outputs": [
        {
          "output_type": "stream",
          "name": "stdout",
          "text": [
            "time: 18.1 s (started: 2021-11-25 16:27:26 +00:00)\n"
          ]
        }
      ]
    },
    {
      "cell_type": "markdown",
      "metadata": {
        "id": "SJrJYtVsOINw"
      },
      "source": [
        "To evaluate the performance of the model, we are going to calculate several scores that can give us an idea of ​​the quality of the prediction."
      ]
    },
    {
      "cell_type": "code",
      "metadata": {
        "colab": {
          "base_uri": "https://localhost:8080/",
          "height": 301
        },
        "id": "LsELhdib9BVs",
        "outputId": "3a52cb45-845c-4917-fd5a-76cb237e1d93"
      },
      "source": [
        "from sklearn.metrics import confusion_matrix, accuracy_score\n",
        "\n",
        "cf_matrix= confusion_matrix(test_labels,classifier_predictions)\n",
        "\n",
        "sns.heatmap(cf_matrix, annot=True, fmt=\"d\", cmap=\"mako\")"
      ],
      "execution_count": 13,
      "outputs": [
        {
          "output_type": "execute_result",
          "data": {
            "text/plain": [
              "<matplotlib.axes._subplots.AxesSubplot at 0x7f7a4cf0d710>"
            ]
          },
          "metadata": {},
          "execution_count": 13
        },
        {
          "output_type": "display_data",
          "data": {
            "image/png": "[encoded data removed]",
            "text/plain": [
              "<Figure size 432x288 with 2 Axes>"
            ]
          },
          "metadata": {
            "needs_background": "light"
          }
        },
        {
          "output_type": "stream",
          "name": "stdout",
          "text": [
            "time: 654 ms (started: 2021-11-25 16:27:44 +00:00)\n"
          ]
        }
      ]
    },
    {
      "cell_type": "markdown",
      "metadata": {
        "id": "g4iN8z6kSwjA"
      },
      "source": [
        "The confusion matrix shows that most of the images are correctly classified, but there are still some classification errors. From the matrix, we can deduce that the model tends to mostly misclassify class 4 to class 9. An interpretation of this result can be given by the similarity between the two digits.\n",
        "As proof of this interpretation, we can also deduce from the matrix that it is more likely to misclassify a class 2 to a class 8 than a class 0 to class 1."
      ]
    },
    {
      "cell_type": "code",
      "metadata": {
        "colab": {
          "base_uri": "https://localhost:8080/"
        },
        "id": "zRL8Gyl0OGMt",
        "outputId": "2850f46e-565c-459d-fb2a-e5d518918a75"
      },
      "source": [
        "#Now it is possible to compute the accuracy of the classification\n",
        "\n",
        "Accuracy=accuracy_score(test_labels,classifier_predictions)\n",
        "print(\"The accuracy of the prediction is:\", Accuracy)"
      ],
      "execution_count": 14,
      "outputs": [
        {
          "output_type": "stream",
          "name": "stdout",
          "text": [
            "The accuracy of the prediction is: 0.9118\n",
            "time: 3.26 ms (started: 2021-11-25 16:27:45 +00:00)\n"
          ]
        }
      ]
    },
    {
      "cell_type": "markdown",
      "metadata": {
        "id": "yOL6piuTW8Qd"
      },
      "source": [
        "The accuracy achieved is about 91%, a good score. However, we are going to increase the accuracy of prediction by exploiting other machine learning classification models. "
      ]
    },
    {
      "cell_type": "markdown",
      "metadata": {
        "id": "S0quQf0VnqtT"
      },
      "source": [
        "# Random Forest\n",
        "\n",
        "Random forest represents a learning method that operates by constructing a multitude of decision trees that operate as an ensemble.  \n",
        "\n",
        "This learning method operates by constructing a multitude of decision tree at training time and outputting the class that is the mode of the classes (classification) or mean prediction (regression) of the individual trees.\n",
        "\n"
      ]
    },
    {
      "cell_type": "code",
      "metadata": {
        "id": "9Yvha9NtSvtI",
        "colab": {
          "base_uri": "https://localhost:8080/"
        },
        "outputId": "ff1e4a7c-97a0-4456-e6b0-64aef5684174"
      },
      "source": [
        "from sklearn.ensemble import RandomForestClassifier\n",
        "from sklearn.model_selection import cross_val_score\n",
        "from sklearn.metrics import classification_report\n",
        "from sklearn.metrics import classification_report, accuracy_score"
      ],
      "execution_count": 15,
      "outputs": [
        {
          "output_type": "stream",
          "name": "stdout",
          "text": [
            "time: 272 ms (started: 2021-11-25 16:27:45 +00:00)\n"
          ]
        }
      ]
    },
    {
      "cell_type": "markdown",
      "metadata": {
        "id": "y7s7jUkMwX29"
      },
      "source": [
        "The number of trees can influence the performance of the model; because it makes the model more efficient, but at the same time slows down the computation."
      ]
    },
    {
      "cell_type": "code",
      "metadata": {
        "colab": {
          "base_uri": "https://localhost:8080/"
        },
        "id": "28SSvWaCvrGB",
        "outputId": "c7b9de12-acf0-4259-e0e6-adc3d7322c8e"
      },
      "source": [
        "#we are going to analyse the performance of the method with different number of trees\n",
        "\n",
        "number_tree=[10,15,30,50,100]\n",
        "top_accuracy={}\n",
        "for number in number_tree:\n",
        "  model=RandomForestClassifier(n_estimators=number)\n",
        "  model.fit(train_images,train_labels)\n",
        "  predictions=model.predict(test_images)\n",
        "  report=classification_report(test_labels,predictions)\n",
        "  accuracy=accuracy_score(test_labels,predictions)\n",
        "  top_accuracy[number]=accuracy\n",
        "  print(\"Classification performed with:\",number, \"trees\", '\\n',report, '\\n', \"The accuracy is equal to:\", accuracy)"
      ],
      "execution_count": 16,
      "outputs": [
        {
          "output_type": "stream",
          "name": "stdout",
          "text": [
            "Classification performed with: 10 trees \n",
            "               precision    recall  f1-score   support\n",
            "\n",
            "           0       0.96      0.99      0.97       980\n",
            "           1       0.99      0.99      0.99      1135\n",
            "           2       0.95      0.97      0.96      1032\n",
            "           3       0.95      0.96      0.95      1010\n",
            "           4       0.95      0.97      0.96       982\n",
            "           5       0.95      0.95      0.95       892\n",
            "           6       0.97      0.96      0.97       958\n",
            "           7       0.97      0.96      0.97      1028\n",
            "           8       0.95      0.94      0.94       974\n",
            "           9       0.97      0.93      0.95      1009\n",
            "\n",
            "    accuracy                           0.96     10000\n",
            "   macro avg       0.96      0.96      0.96     10000\n",
            "weighted avg       0.96      0.96      0.96     10000\n",
            " \n",
            " The accuracy is equal to: 0.9617\n",
            "Classification performed with: 15 trees \n",
            "               precision    recall  f1-score   support\n",
            "\n",
            "           0       0.97      0.99      0.98       980\n",
            "           1       0.99      0.99      0.99      1135\n",
            "           2       0.97      0.97      0.97      1032\n",
            "           3       0.95      0.96      0.96      1010\n",
            "           4       0.96      0.98      0.97       982\n",
            "           5       0.97      0.96      0.96       892\n",
            "           6       0.98      0.97      0.98       958\n",
            "           7       0.97      0.97      0.97      1028\n",
            "           8       0.96      0.97      0.96       974\n",
            "           9       0.97      0.94      0.96      1009\n",
            "\n",
            "    accuracy                           0.97     10000\n",
            "   macro avg       0.97      0.97      0.97     10000\n",
            "weighted avg       0.97      0.97      0.97     10000\n",
            " \n",
            " The accuracy is equal to: 0.9694\n",
            "Classification performed with: 30 trees \n",
            "               precision    recall  f1-score   support\n",
            "\n",
            "           0       0.98      0.99      0.98       980\n",
            "           1       1.00      0.99      0.99      1135\n",
            "           2       0.97      0.98      0.97      1032\n",
            "           3       0.97      0.98      0.97      1010\n",
            "           4       0.97      0.97      0.97       982\n",
            "           5       0.98      0.97      0.97       892\n",
            "           6       0.97      0.98      0.98       958\n",
            "           7       0.98      0.98      0.98      1028\n",
            "           8       0.97      0.97      0.97       974\n",
            "           9       0.97      0.95      0.96      1009\n",
            "\n",
            "    accuracy                           0.97     10000\n",
            "   macro avg       0.97      0.97      0.97     10000\n",
            "weighted avg       0.97      0.97      0.97     10000\n",
            " \n",
            " The accuracy is equal to: 0.9745\n",
            "Classification performed with: 50 trees \n",
            "               precision    recall  f1-score   support\n",
            "\n",
            "           0       0.98      0.99      0.98       980\n",
            "           1       1.00      0.99      0.99      1135\n",
            "           2       0.97      0.97      0.97      1032\n",
            "           3       0.98      0.97      0.97      1010\n",
            "           4       0.97      0.98      0.97       982\n",
            "           5       0.97      0.98      0.97       892\n",
            "           6       0.97      0.98      0.98       958\n",
            "           7       0.98      0.97      0.98      1028\n",
            "           8       0.97      0.97      0.97       974\n",
            "           9       0.97      0.95      0.96      1009\n",
            "\n",
            "    accuracy                           0.98     10000\n",
            "   macro avg       0.98      0.98      0.98     10000\n",
            "weighted avg       0.98      0.98      0.98     10000\n",
            " \n",
            " The accuracy is equal to: 0.9758\n",
            "Classification performed with: 100 trees \n",
            "               precision    recall  f1-score   support\n",
            "\n",
            "           0       0.98      0.99      0.98       980\n",
            "           1       1.00      0.99      0.99      1135\n",
            "           2       0.98      0.97      0.98      1032\n",
            "           3       0.98      0.98      0.98      1010\n",
            "           4       0.97      0.98      0.97       982\n",
            "           5       0.98      0.98      0.98       892\n",
            "           6       0.98      0.98      0.98       958\n",
            "           7       0.98      0.97      0.98      1028\n",
            "           8       0.97      0.97      0.97       974\n",
            "           9       0.97      0.96      0.96      1009\n",
            "\n",
            "    accuracy                           0.98     10000\n",
            "   macro avg       0.98      0.98      0.98     10000\n",
            "weighted avg       0.98      0.98      0.98     10000\n",
            " \n",
            " The accuracy is equal to: 0.9771\n",
            "time: 1min 45s (started: 2021-11-25 16:27:45 +00:00)\n"
          ]
        }
      ]
    },
    {
      "cell_type": "code",
      "metadata": {
        "colab": {
          "base_uri": "https://localhost:8080/"
        },
        "id": "1iOppiN0zC-l",
        "outputId": "37aba648-69e7-4013-c125-ddf243af6573"
      },
      "source": [
        "n_tree_with_high_accuracy=max(top_accuracy, key=top_accuracy.get)\n",
        "print(\"The highest accuracy is achivied using\", n_tree_with_high_accuracy,\"trees\")\n",
        "print(\"The accuracy is equal to:\", top_accuracy[n_tree_with_high_accuracy])"
      ],
      "execution_count": 17,
      "outputs": [
        {
          "output_type": "stream",
          "name": "stdout",
          "text": [
            "The highest accuracy is achivied using 100 trees\n",
            "The accuracy is equal to: 0.9771\n",
            "time: 2.48 ms (started: 2021-11-25 16:29:30 +00:00)\n"
          ]
        }
      ]
    },
    {
      "cell_type": "code",
      "metadata": {
        "colab": {
          "base_uri": "https://localhost:8080/"
        },
        "id": "6jNWRIJ508I3",
        "outputId": "c894137e-6fca-4228-8587-eecf370609e6"
      },
      "source": [
        "#The next step is to consider the hyperparameters for training and testing our model\n",
        "\n",
        "model=RandomForestClassifier(n_estimators=n_tree_with_high_accuracy)\n",
        "model.fit(train_images,train_labels)\n"
      ],
      "execution_count": 18,
      "outputs": [
        {
          "output_type": "execute_result",
          "data": {
            "text/plain": [
              "RandomForestClassifier()"
            ]
          },
          "metadata": {},
          "execution_count": 18
        },
        {
          "output_type": "stream",
          "name": "stdout",
          "text": [
            "time: 50.8 s (started: 2021-11-25 16:29:30 +00:00)\n"
          ]
        }
      ]
    },
    {
      "cell_type": "code",
      "metadata": {
        "colab": {
          "base_uri": "https://localhost:8080/"
        },
        "id": "j8ELUTmR2p01",
        "outputId": "4b93bce7-039f-44d6-92d3-3744bffb2bee"
      },
      "source": [
        "f_predictions=model.predict(test_images)\n",
        "\n",
        "report=classification_report(test_labels,f_predictions)\n",
        "print(report)"
      ],
      "execution_count": 19,
      "outputs": [
        {
          "output_type": "stream",
          "name": "stdout",
          "text": [
            "              precision    recall  f1-score   support\n",
            "\n",
            "           0       0.98      0.99      0.98       980\n",
            "           1       0.99      0.99      0.99      1135\n",
            "           2       0.98      0.98      0.98      1032\n",
            "           3       0.97      0.97      0.97      1010\n",
            "           4       0.98      0.98      0.98       982\n",
            "           5       0.98      0.98      0.98       892\n",
            "           6       0.98      0.99      0.98       958\n",
            "           7       0.99      0.98      0.98      1028\n",
            "           8       0.97      0.97      0.97       974\n",
            "           9       0.96      0.95      0.96      1009\n",
            "\n",
            "    accuracy                           0.98     10000\n",
            "   macro avg       0.98      0.98      0.98     10000\n",
            "weighted avg       0.98      0.98      0.98     10000\n",
            "\n",
            "time: 460 ms (started: 2021-11-25 16:30:21 +00:00)\n"
          ]
        }
      ]
    },
    {
      "cell_type": "code",
      "metadata": {
        "colab": {
          "base_uri": "https://localhost:8080/"
        },
        "id": "M6_TQoT749GI",
        "outputId": "2763e3e7-e8fd-404f-ef91-830ec1e20254"
      },
      "source": [
        "RF_accuracy=accuracy_score(test_labels,f_predictions)\n",
        "print(\"The accuracy is equal to:\", RF_accuracy)\n"
      ],
      "execution_count": 20,
      "outputs": [
        {
          "output_type": "stream",
          "name": "stdout",
          "text": [
            "The accuracy is equal to: 0.9777\n",
            "time: 5.6 ms (started: 2021-11-25 16:30:22 +00:00)\n"
          ]
        }
      ]
    },
    {
      "cell_type": "code",
      "metadata": {
        "colab": {
          "base_uri": "https://localhost:8080/",
          "height": 301
        },
        "id": "KUEeSLx85TM6",
        "outputId": "0a2e15ce-3989-4c24-a8e2-f6f80d39b7b6"
      },
      "source": [
        "#Now it is possible to compute the confusion matrix\n",
        "\n",
        "cf_matrix = confusion_matrix(test_labels, f_predictions)\n",
        "sns.heatmap(cf_matrix, annot=True, fmt=\"d\", cmap=\"mako\")"
      ],
      "execution_count": 21,
      "outputs": [
        {
          "output_type": "execute_result",
          "data": {
            "text/plain": [
              "<matplotlib.axes._subplots.AxesSubplot at 0x7f7a560f63d0>"
            ]
          },
          "metadata": {},
          "execution_count": 21
        },
        {
          "output_type": "display_data",
          "data": {
            "image/png": "[encoded data removed]",
            "text/plain": [
              "<Figure size 432x288 with 2 Axes>"
            ]
          },
          "metadata": {
            "needs_background": "light"
          }
        },
        {
          "output_type": "stream",
          "name": "stdout",
          "text": [
            "time: 619 ms (started: 2021-11-25 16:30:22 +00:00)\n"
          ]
        }
      ]
    },
    {
      "cell_type": "markdown",
      "metadata": {
        "id": "l14S4LB77fWp"
      },
      "source": [
        "Considering the accuracy that is over 97% and the confusion matrix, we can safely assert that Random Forest performed better than a simple Decision tree, as we could expect.\n",
        "\n",
        "One of the differences between the two confusion matrixes, one for the random forest and one for the decision tree, is the low value of incorrect classification among all the digits."
      ]
    },
    {
      "cell_type": "markdown",
      "metadata": {
        "id": "Uug9ES2qUeYY"
      },
      "source": [
        "# CNN \n",
        "\n",
        "**Convolutional Neural Network** (CNN) represents a class of a artificial neural network, most commonly applied to analyze visual imagery. \n",
        "The input of CNN is a image's raw pixel data. The CNN learns how to extract features and infer what object they constitute. \n",
        "\n",
        "The model that we are going to expolit has a double \"function\": the extraction of the features and the prediction. "
      ]
    },
    {
      "cell_type": "markdown",
      "metadata": {
        "id": "50zYqb42ZQl7"
      },
      "source": [
        "## Data manipulation"
      ]
    },
    {
      "cell_type": "code",
      "metadata": {
        "id": "7UuEo7I46G00",
        "colab": {
          "base_uri": "https://localhost:8080/"
        },
        "outputId": "356f35b2-5cfc-4860-fae4-cdd8c5c762d4"
      },
      "source": [
        "#Now we are going to reshape our data\n",
        "train_images=train_images_deskewed.reshape(train_images_deskewed.shape[0],28,28,1)\n",
        "test_images=test_images_deskewed.reshape(test_images_deskewed.shape[0],28,28,1)\n",
        "input_shape=(28,28,1)\n"
      ],
      "execution_count": 22,
      "outputs": [
        {
          "output_type": "stream",
          "name": "stdout",
          "text": [
            "time: 3.41 ms (started: 2021-11-25 16:30:22 +00:00)\n"
          ]
        }
      ]
    },
    {
      "cell_type": "code",
      "metadata": {
        "colab": {
          "base_uri": "https://localhost:8080/"
        },
        "id": "1rdm6sOPazdk",
        "outputId": "b386467b-b709-4727-9712-8a1a47a50d0b"
      },
      "source": [
        "#normalization of 28x28 greyscale values in order to obtain intensity values of the pixels between 0 and 1\n",
        "train_images=train_images / 255.0\n",
        "test_images=test_images / 255.0"
      ],
      "execution_count": 23,
      "outputs": [
        {
          "output_type": "stream",
          "name": "stdout",
          "text": [
            "time: 186 ms (started: 2021-11-25 16:30:22 +00:00)\n"
          ]
        }
      ]
    },
    {
      "cell_type": "code",
      "metadata": {
        "colab": {
          "base_uri": "https://localhost:8080/"
        },
        "id": "JXSzbcXjbihr",
        "outputId": "cae36732-e2a8-4021-95a6-a5c9181161b5"
      },
      "source": [
        "#We are going to use binary vectors of 10 elements to represent  unique integers representing our labels\n",
        "from keras.utils.np_utils import to_categorical\n",
        "\n",
        "nlabels=10\n",
        "train_labels_v=to_categorical(train_labels, num_classes=nlabels)\n",
        "test_labels_v=to_categorical(test_labels, num_classes=nlabels)\n"
      ],
      "execution_count": 24,
      "outputs": [
        {
          "output_type": "stream",
          "name": "stdout",
          "text": [
            "time: 5.79 ms (started: 2021-11-25 16:30:22 +00:00)\n"
          ]
        }
      ]
    },
    {
      "cell_type": "code",
      "metadata": {
        "colab": {
          "base_uri": "https://localhost:8080/"
        },
        "id": "TxLknvcUdNUC",
        "outputId": "0021fa62-c2cb-468e-d50c-81bdd0ed0cd3"
      },
      "source": [
        "#lets print an example\n",
        "print(\"label: {} ---> vector : {}\".format(train_labels[17], train_labels_v[17]))"
      ],
      "execution_count": 25,
      "outputs": [
        {
          "output_type": "stream",
          "name": "stdout",
          "text": [
            "label: 8 ---> vector : [0. 0. 0. 0. 0. 0. 0. 0. 1. 0.]\n",
            "time: 5.18 ms (started: 2021-11-25 16:30:22 +00:00)\n"
          ]
        }
      ]
    },
    {
      "cell_type": "markdown",
      "metadata": {
        "id": "a81U-BhNhE3O"
      },
      "source": [
        "## Building the model\n",
        "\n",
        "We need to define the architecture of the model and equip it with an optimizer function, loss function and performance metrics. The architecture is composed by a **2D convolutional layer** with a small filter size and 32 as numbers of filters, followed by a **maxpooling layer**.\n",
        "We need an output layer able to predict the probability distribution of an image belonging to each of the 10 classes. Will be added between the feature extractor layer and the output layer a dense layer able to interpret the features. Also, we will consider 3 hyperparameters:     \n",
        "\n",
        "\n",
        "*   **Learning rate**: we will use an optimazer able to adjust the learning rate throughout training.\n",
        "*   **Loss function**: we will use a categorical_crossentropy as the loss function.\n",
        "*   **Performance metrics**: we will use an accuracy performance metric in order to obtain the accuracy score to valuate the model. \n",
        "\n",
        "\n",
        "\n",
        "\n",
        "\n",
        "\n",
        "\n"
      ]
    },
    {
      "cell_type": "code",
      "metadata": {
        "colab": {
          "base_uri": "https://localhost:8080/"
        },
        "id": "Q31CPXEeeG6K",
        "outputId": "e3b44b85-2947-4e85-b8db-1c8fc7f76c0d"
      },
      "source": [
        "from keras.models import Sequential\n",
        "from keras.layers import Dense, Dropout, Flatten\n",
        "from keras.layers import Conv2D, MaxPool2D\n",
        "from tensorflow.keras.optimizers import Adam"
      ],
      "execution_count": 26,
      "outputs": [
        {
          "output_type": "stream",
          "name": "stdout",
          "text": [
            "time: 3.7 ms (started: 2021-11-25 16:30:22 +00:00)\n"
          ]
        }
      ]
    },
    {
      "cell_type": "code",
      "metadata": {
        "colab": {
          "base_uri": "https://localhost:8080/"
        },
        "id": "LlOGvtdykyUF",
        "outputId": "3462c17c-6a10-47ba-e4de-f2b1aaaa465d"
      },
      "source": [
        "CNN_model= Sequential()\n",
        "#All layers will use ReLu activation function\n",
        "CNN_model.add(Conv2D(32, kernel_size=(3,3), activation = \"relu\", kernel_initializer=\"he_uniform\", input_shape=(28,28,1)))\n",
        "CNN_model.add(MaxPool2D(pool_size=(2, 2)))\n",
        "\n",
        "#We add a flatten layer between the convolutional and dense layer\n",
        "CNN_model.add(Flatten())\n",
        "\n",
        "#we add 100 neurons to the Dense layer\n",
        "CNN_model.add(Dense(100, activation='relu', kernel_initializer='he_uniform'))\n",
        "\n",
        "#we will use softmax as activation function\n",
        "CNN_model.add(Dense(nlabels, activation='softmax'))\n",
        "\n",
        "CNN_model.summary()"
      ],
      "execution_count": 27,
      "outputs": [
        {
          "output_type": "stream",
          "name": "stdout",
          "text": [
            "Model: \"sequential\"\n",
            "_________________________________________________________________\n",
            " Layer (type)                Output Shape              Param #   \n",
            "=================================================================\n",
            " conv2d (Conv2D)             (None, 26, 26, 32)        320       \n",
            "                                                                 \n",
            " max_pooling2d (MaxPooling2D  (None, 13, 13, 32)       0         \n",
            " )                                                               \n",
            "                                                                 \n",
            " flatten (Flatten)           (None, 5408)              0         \n",
            "                                                                 \n",
            " dense (Dense)               (None, 100)               540900    \n",
            "                                                                 \n",
            " dense_1 (Dense)             (None, 10)                1010      \n",
            "                                                                 \n",
            "=================================================================\n",
            "Total params: 542,230\n",
            "Trainable params: 542,230\n",
            "Non-trainable params: 0\n",
            "_________________________________________________________________\n",
            "time: 255 ms (started: 2021-11-25 16:30:22 +00:00)\n"
          ]
        }
      ]
    },
    {
      "cell_type": "code",
      "metadata": {
        "colab": {
          "base_uri": "https://localhost:8080/"
        },
        "id": "2qFFzG9Ks1KI",
        "outputId": "fd9747c1-fd73-4c01-b154-9ab1e0e5771b"
      },
      "source": [
        "#compiling the model with the hyperparameters\n",
        "CNN_model.compile(optimizer=\"adam\", loss=\"categorical_crossentropy\", metrics=[\"accuracy\"])"
      ],
      "execution_count": 28,
      "outputs": [
        {
          "output_type": "stream",
          "name": "stdout",
          "text": [
            "time: 14.1 ms (started: 2021-11-25 16:30:23 +00:00)\n"
          ]
        }
      ]
    },
    {
      "cell_type": "markdown",
      "metadata": {
        "id": "WMuRXrBJKbiu"
      },
      "source": [
        "Now we have to deal with other two hyperparameters:\n",
        "\n",
        "*     **Epochs**: it represents the number of times that the learning algorithm will work on the training dataset. An epoch is comprised of one or more batches.\n",
        "*     **Batch size**: it represents the number of samples to elaborate on before updating the internal parameters. \n",
        "\n"
      ]
    },
    {
      "cell_type": "code",
      "metadata": {
        "colab": {
          "base_uri": "https://localhost:8080/"
        },
        "id": "IJcVkp_3lF9S",
        "outputId": "7e7d3692-766e-4efe-832f-bc6286e1b6c1"
      },
      "source": [
        "#training the model\n",
        "\n",
        "epochs=25\n",
        "batch_size=250\n",
        "\n",
        "CNN_history = CNN_model.fit(x=train_images, y=train_labels_v, batch_size=batch_size, epochs=epochs, validation_split=0.1)"
      ],
      "execution_count": 29,
      "outputs": [
        {
          "output_type": "stream",
          "name": "stdout",
          "text": [
            "Epoch 1/25\n",
            "216/216 [==============================] - 22s 97ms/step - loss: 0.2114 - accuracy: 0.9362 - val_loss: 0.0937 - val_accuracy: 0.9703\n",
            "Epoch 2/25\n",
            "216/216 [==============================] - 21s 96ms/step - loss: 0.0688 - accuracy: 0.9793 - val_loss: 0.0490 - val_accuracy: 0.9868\n",
            "Epoch 3/25\n",
            "216/216 [==============================] - 21s 96ms/step - loss: 0.0432 - accuracy: 0.9871 - val_loss: 0.0447 - val_accuracy: 0.9872\n",
            "Epoch 4/25\n",
            "216/216 [==============================] - 21s 96ms/step - loss: 0.0323 - accuracy: 0.9904 - val_loss: 0.0410 - val_accuracy: 0.9880\n",
            "Epoch 5/25\n",
            "216/216 [==============================] - 21s 96ms/step - loss: 0.0243 - accuracy: 0.9930 - val_loss: 0.0382 - val_accuracy: 0.9883\n",
            "Epoch 6/25\n",
            "216/216 [==============================] - 21s 96ms/step - loss: 0.0186 - accuracy: 0.9943 - val_loss: 0.0354 - val_accuracy: 0.9902\n",
            "Epoch 7/25\n",
            "216/216 [==============================] - 21s 96ms/step - loss: 0.0143 - accuracy: 0.9961 - val_loss: 0.0380 - val_accuracy: 0.9887\n",
            "Epoch 8/25\n",
            "216/216 [==============================] - 21s 96ms/step - loss: 0.0119 - accuracy: 0.9967 - val_loss: 0.0342 - val_accuracy: 0.9908\n",
            "Epoch 9/25\n",
            "216/216 [==============================] - 21s 95ms/step - loss: 0.0095 - accuracy: 0.9974 - val_loss: 0.0358 - val_accuracy: 0.9905\n",
            "Epoch 10/25\n",
            "216/216 [==============================] - 21s 96ms/step - loss: 0.0078 - accuracy: 0.9979 - val_loss: 0.0360 - val_accuracy: 0.9907\n",
            "Epoch 11/25\n",
            "216/216 [==============================] - 21s 95ms/step - loss: 0.0057 - accuracy: 0.9985 - val_loss: 0.0394 - val_accuracy: 0.9902\n",
            "Epoch 12/25\n",
            "216/216 [==============================] - 21s 96ms/step - loss: 0.0053 - accuracy: 0.9987 - val_loss: 0.0425 - val_accuracy: 0.9908\n",
            "Epoch 13/25\n",
            "216/216 [==============================] - 21s 96ms/step - loss: 0.0059 - accuracy: 0.9983 - val_loss: 0.0403 - val_accuracy: 0.9910\n",
            "Epoch 14/25\n",
            "216/216 [==============================] - 21s 95ms/step - loss: 0.0043 - accuracy: 0.9990 - val_loss: 0.0430 - val_accuracy: 0.9890\n",
            "Epoch 15/25\n",
            "216/216 [==============================] - 21s 95ms/step - loss: 0.0034 - accuracy: 0.9993 - val_loss: 0.0390 - val_accuracy: 0.9912\n",
            "Epoch 16/25\n",
            "216/216 [==============================] - 21s 95ms/step - loss: 0.0025 - accuracy: 0.9994 - val_loss: 0.0407 - val_accuracy: 0.9912\n",
            "Epoch 17/25\n",
            "216/216 [==============================] - 21s 95ms/step - loss: 0.0027 - accuracy: 0.9996 - val_loss: 0.0429 - val_accuracy: 0.9903\n",
            "Epoch 18/25\n",
            "216/216 [==============================] - 21s 95ms/step - loss: 0.0020 - accuracy: 0.9996 - val_loss: 0.0398 - val_accuracy: 0.9898\n",
            "Epoch 19/25\n",
            "216/216 [==============================] - 21s 95ms/step - loss: 0.0013 - accuracy: 0.9998 - val_loss: 0.0418 - val_accuracy: 0.9905\n",
            "Epoch 20/25\n",
            "216/216 [==============================] - 21s 95ms/step - loss: 0.0015 - accuracy: 0.9997 - val_loss: 0.0400 - val_accuracy: 0.9910\n",
            "Epoch 21/25\n",
            "216/216 [==============================] - 21s 95ms/step - loss: 0.0059 - accuracy: 0.9983 - val_loss: 0.0472 - val_accuracy: 0.9882\n",
            "Epoch 22/25\n",
            "216/216 [==============================] - 20s 94ms/step - loss: 0.0077 - accuracy: 0.9976 - val_loss: 0.0430 - val_accuracy: 0.9897\n",
            "Epoch 23/25\n",
            "216/216 [==============================] - 20s 94ms/step - loss: 0.0020 - accuracy: 0.9996 - val_loss: 0.0494 - val_accuracy: 0.9897\n",
            "Epoch 24/25\n",
            "216/216 [==============================] - 20s 95ms/step - loss: 0.0011 - accuracy: 0.9998 - val_loss: 0.0460 - val_accuracy: 0.9913\n",
            "Epoch 25/25\n",
            "216/216 [==============================] - 20s 95ms/step - loss: 4.6756e-04 - accuracy: 1.0000 - val_loss: 0.0494 - val_accuracy: 0.9908\n",
            "time: 9min 22s (started: 2021-11-25 16:30:23 +00:00)\n"
          ]
        }
      ]
    },
    {
      "cell_type": "code",
      "metadata": {
        "colab": {
          "base_uri": "https://localhost:8080/"
        },
        "id": "36hzbDUAIeTp",
        "outputId": "7571d264-ab12-4e78-df44-1b7661e8b9ee"
      },
      "source": [
        "#the next operation is to evaluate the model performance\n",
        "score=CNN_model.evaluate(test_images,test_labels_v,verbose=0)\n",
        "CNN_accuracy=score[1]\n",
        "CNN_test_loss=score[0]\n",
        "print(\"Test cross entropy loss :\", CNN_test_loss, \"\\nTest classification Accuracy:\", CNN_accuracy)\n"
      ],
      "execution_count": 30,
      "outputs": [
        {
          "output_type": "stream",
          "name": "stdout",
          "text": [
            "Test cross entropy loss : 0.035991519689559937 \n",
            "Test classification Accuracy: 0.9907000064849854\n",
            "time: 2.15 s (started: 2021-11-25 16:39:45 +00:00)\n"
          ]
        }
      ]
    },
    {
      "cell_type": "code",
      "metadata": {
        "colab": {
          "base_uri": "https://localhost:8080/",
          "height": 748
        },
        "id": "AGxdgnYNNK1I",
        "outputId": "dcb32a02-005c-4c5a-ef10-62fc2f6893ff"
      },
      "source": [
        "fig = plt.figure(figsize=(10,10)) \n",
        "plt.subplot(2,1,1)\n",
        "plt.plot(CNN_history.history['accuracy'], color=\"blue\")\n",
        "plt.plot(CNN_history.history['val_accuracy'], color=\"red\")\n",
        "plt.title('Accuracy model', fontdict={\"fontsize\":14, \"fontweight\":\"bold\"})\n",
        "plt.ylabel('Accuracy')\n",
        "plt.xlabel('Epochs')\n",
        "plt.xticks(np.arange(0,25))\n",
        "plt.legend(['Train','Test'],loc='lower right')\n",
        "\n",
        "plt.subplot(2,1,2)\n",
        "plt.plot(CNN_history.history['loss'], color=\"blue\")\n",
        "plt.plot(CNN_history.history['val_loss'], color=\"red\")\n",
        "plt.title('Cross entropy loss model',fontdict={\"fontsize\":14, \"fontweight\":\"bold\"})\n",
        "plt.ylabel('Cross entropy loss')\n",
        "plt.xlabel('Epochs')\n",
        "plt.xticks(np.arange(0,25))\n",
        "plt.legend(['Train','Test'], loc='upper right')\n",
        "\n",
        "plt.tight_layout()"
      ],
      "execution_count": 31,
      "outputs": [
        {
          "output_type": "display_data",
          "data": {
            "image/png": "[encoded data removed]",
            "text/plain": [
              "<Figure size 720x720 with 2 Axes>"
            ]
          },
          "metadata": {
            "needs_background": "light"
          }
        },
        {
          "output_type": "stream",
          "name": "stdout",
          "text": [
            "time: 631 ms (started: 2021-11-25 16:39:48 +00:00)\n"
          ]
        }
      ]
    },
    {
      "cell_type": "markdown",
      "metadata": {
        "id": "YT2IDPgsRRqq"
      },
      "source": [
        "As we can see from the graphs, the accuracy, compared to the previous model, increased significantly. \n",
        "In the model loss plot, it is possible to observe how rapidly decrease the cross entropy loss on training set, this means that the model learning very fast how to classify the digits. But we can observe also how the model is prone to overfittig, since the train cross entropy loss decrease and test cross entropy loss increase. The overfitting has a negative imapacts on the performance of the model. The test cross entropy loss start to increase since the 2-3° epoch. "
      ]
    },
    {
      "cell_type": "markdown",
      "metadata": {
        "id": "RkbvE1mokd_0"
      },
      "source": [
        "## Improvement of the model\n",
        "\n"
      ]
    },
    {
      "cell_type": "markdown",
      "metadata": {
        "id": "W11DhIcJe7PH"
      },
      "source": [
        "The main idea is to modify the model in order to improve the perfomances and to eliminate the problem of overfitting. To reach these tasks, we are going to add another 2D convolutional layer with 64 filters each and another max pooling layer. "
      ]
    },
    {
      "cell_type": "code",
      "metadata": {
        "id": "IrK6cxwjknd8",
        "colab": {
          "base_uri": "https://localhost:8080/"
        },
        "outputId": "8a385264-5eca-42a9-9de1-4f762c962d06"
      },
      "source": [
        "new_model = Sequential()\n",
        "new_model.add(Conv2D(filters=64, kernel_size=2, padding='same', activation='relu', input_shape=(28,28,1))) \n",
        "new_model.add(MaxPool2D(pool_size=2))\n",
        "new_model.add(Dropout(0.5))\n",
        "new_model.add(Conv2D(filters=32, kernel_size=2, padding='same', activation='relu'))\n",
        "new_model.add(MaxPool2D(pool_size=2))\n",
        "new_model.add(Dropout(0.5))\n",
        "new_model.add(Flatten())\n",
        "new_model.add(Dense(256, activation='relu'))\n",
        "new_model.add(Dropout(0.5))\n",
        "new_model.add(Dense(nlabels, activation='softmax'))\n",
        "\n",
        "new_model.summary()"
      ],
      "execution_count": 32,
      "outputs": [
        {
          "output_type": "stream",
          "name": "stdout",
          "text": [
            "Model: \"sequential_1\"\n",
            "_________________________________________________________________\n",
            " Layer (type)                Output Shape              Param #   \n",
            "=================================================================\n",
            " conv2d_1 (Conv2D)           (None, 28, 28, 64)        320       \n",
            "                                                                 \n",
            " max_pooling2d_1 (MaxPooling  (None, 14, 14, 64)       0         \n",
            " 2D)                                                             \n",
            "                                                                 \n",
            " dropout (Dropout)           (None, 14, 14, 64)        0         \n",
            "                                                                 \n",
            " conv2d_2 (Conv2D)           (None, 14, 14, 32)        8224      \n",
            "                                                                 \n",
            " max_pooling2d_2 (MaxPooling  (None, 7, 7, 32)         0         \n",
            " 2D)                                                             \n",
            "                                                                 \n",
            " dropout_1 (Dropout)         (None, 7, 7, 32)          0         \n",
            "                                                                 \n",
            " flatten_1 (Flatten)         (None, 1568)              0         \n",
            "                                                                 \n",
            " dense_2 (Dense)             (None, 256)               401664    \n",
            "                                                                 \n",
            " dropout_2 (Dropout)         (None, 256)               0         \n",
            "                                                                 \n",
            " dense_3 (Dense)             (None, 10)                2570      \n",
            "                                                                 \n",
            "=================================================================\n",
            "Total params: 412,778\n",
            "Trainable params: 412,778\n",
            "Non-trainable params: 0\n",
            "_________________________________________________________________\n",
            "time: 83.1 ms (started: 2021-11-25 16:39:48 +00:00)\n"
          ]
        }
      ]
    },
    {
      "cell_type": "code",
      "metadata": {
        "id": "60fFBxtjPFwY",
        "colab": {
          "base_uri": "https://localhost:8080/"
        },
        "outputId": "1f84bffe-41a8-4224-a912-ffe25c7f6f6d"
      },
      "source": [
        "new_model.compile(optimizer=\"adam\", loss=\"categorical_crossentropy\", metrics=[\"accuracy\"])\n",
        "\n",
        "epochs=25\n",
        "batch_size=250\n",
        "\n",
        "new_CNN_history = new_model.fit(x=train_images, y=train_labels_v, batch_size=batch_size, epochs=epochs, validation_split=0.1)"
      ],
      "execution_count": 33,
      "outputs": [
        {
          "output_type": "stream",
          "name": "stdout",
          "text": [
            "Epoch 1/25\n",
            "216/216 [==============================] - 58s 268ms/step - loss: 0.5600 - accuracy: 0.8225 - val_loss: 0.1210 - val_accuracy: 0.9692\n",
            "Epoch 2/25\n",
            "216/216 [==============================] - 58s 267ms/step - loss: 0.2003 - accuracy: 0.9380 - val_loss: 0.0675 - val_accuracy: 0.9815\n",
            "Epoch 3/25\n",
            "216/216 [==============================] - 57s 266ms/step - loss: 0.1412 - accuracy: 0.9559 - val_loss: 0.0525 - val_accuracy: 0.9848\n",
            "Epoch 4/25\n",
            "216/216 [==============================] - 57s 265ms/step - loss: 0.1131 - accuracy: 0.9648 - val_loss: 0.0451 - val_accuracy: 0.9870\n",
            "Epoch 5/25\n",
            "216/216 [==============================] - 57s 265ms/step - loss: 0.1020 - accuracy: 0.9670 - val_loss: 0.0373 - val_accuracy: 0.9898\n",
            "Epoch 6/25\n",
            "216/216 [==============================] - 57s 265ms/step - loss: 0.0916 - accuracy: 0.9713 - val_loss: 0.0361 - val_accuracy: 0.9887\n",
            "Epoch 7/25\n",
            "216/216 [==============================] - 57s 264ms/step - loss: 0.0849 - accuracy: 0.9728 - val_loss: 0.0329 - val_accuracy: 0.9900\n",
            "Epoch 8/25\n",
            "216/216 [==============================] - 57s 264ms/step - loss: 0.0817 - accuracy: 0.9739 - val_loss: 0.0341 - val_accuracy: 0.9905\n",
            "Epoch 9/25\n",
            "216/216 [==============================] - 57s 264ms/step - loss: 0.0768 - accuracy: 0.9761 - val_loss: 0.0302 - val_accuracy: 0.9913\n",
            "Epoch 10/25\n",
            "216/216 [==============================] - 57s 264ms/step - loss: 0.0709 - accuracy: 0.9776 - val_loss: 0.0287 - val_accuracy: 0.9922\n",
            "Epoch 11/25\n",
            "216/216 [==============================] - 57s 264ms/step - loss: 0.0699 - accuracy: 0.9785 - val_loss: 0.0285 - val_accuracy: 0.9923\n",
            "Epoch 12/25\n",
            "216/216 [==============================] - 57s 264ms/step - loss: 0.0667 - accuracy: 0.9785 - val_loss: 0.0257 - val_accuracy: 0.9932\n",
            "Epoch 13/25\n",
            "216/216 [==============================] - 57s 265ms/step - loss: 0.0632 - accuracy: 0.9793 - val_loss: 0.0287 - val_accuracy: 0.9920\n",
            "Epoch 14/25\n",
            "216/216 [==============================] - 57s 264ms/step - loss: 0.0630 - accuracy: 0.9794 - val_loss: 0.0269 - val_accuracy: 0.9925\n",
            "Epoch 15/25\n",
            "216/216 [==============================] - 57s 265ms/step - loss: 0.0588 - accuracy: 0.9810 - val_loss: 0.0256 - val_accuracy: 0.9928\n",
            "Epoch 16/25\n",
            "216/216 [==============================] - 57s 265ms/step - loss: 0.0563 - accuracy: 0.9819 - val_loss: 0.0246 - val_accuracy: 0.9930\n",
            "Epoch 17/25\n",
            "216/216 [==============================] - 57s 265ms/step - loss: 0.0552 - accuracy: 0.9820 - val_loss: 0.0256 - val_accuracy: 0.9930\n",
            "Epoch 18/25\n",
            "216/216 [==============================] - 57s 264ms/step - loss: 0.0566 - accuracy: 0.9819 - val_loss: 0.0243 - val_accuracy: 0.9935\n",
            "Epoch 19/25\n",
            "216/216 [==============================] - 57s 266ms/step - loss: 0.0537 - accuracy: 0.9835 - val_loss: 0.0233 - val_accuracy: 0.9933\n",
            "Epoch 20/25\n",
            "216/216 [==============================] - 57s 265ms/step - loss: 0.0526 - accuracy: 0.9825 - val_loss: 0.0237 - val_accuracy: 0.9933\n",
            "Epoch 21/25\n",
            "216/216 [==============================] - 57s 265ms/step - loss: 0.0526 - accuracy: 0.9830 - val_loss: 0.0242 - val_accuracy: 0.9928\n",
            "Epoch 22/25\n",
            "216/216 [==============================] - 57s 265ms/step - loss: 0.0503 - accuracy: 0.9831 - val_loss: 0.0239 - val_accuracy: 0.9930\n",
            "Epoch 23/25\n",
            "216/216 [==============================] - 57s 264ms/step - loss: 0.0512 - accuracy: 0.9835 - val_loss: 0.0243 - val_accuracy: 0.9935\n",
            "Epoch 24/25\n",
            "216/216 [==============================] - 57s 263ms/step - loss: 0.0478 - accuracy: 0.9844 - val_loss: 0.0252 - val_accuracy: 0.9937\n",
            "Epoch 25/25\n",
            "216/216 [==============================] - 57s 264ms/step - loss: 0.0471 - accuracy: 0.9850 - val_loss: 0.0229 - val_accuracy: 0.9937\n",
            "time: 23min 50s (started: 2021-11-25 16:39:48 +00:00)\n"
          ]
        }
      ]
    },
    {
      "cell_type": "code",
      "metadata": {
        "colab": {
          "base_uri": "https://localhost:8080/"
        },
        "id": "NIr565SCjUsB",
        "outputId": "ee57a25d-af3f-481c-bf0e-0c9936031162"
      },
      "source": [
        "#comparing the new model with the oldest\n",
        "new_score=new_model.evaluate(test_images,test_labels_v,verbose=0)\n",
        "new_CNN_accuracy=new_score[1]\n",
        "new_CNN_test_loss=new_score[0]\n",
        "print(\"Model performances:\")\n",
        "print(\"Test cross entropy loss :\", CNN_test_loss, \"\\nTest classification Accuracy:\", CNN_accuracy)\n",
        "print(\"\\nNew model performances:\")\n",
        "print(\"Test cross entropy loss :\", new_CNN_test_loss, \"\\nTest classification Accuracy:\", new_CNN_accuracy,\"\\n\")"
      ],
      "execution_count": 34,
      "outputs": [
        {
          "output_type": "stream",
          "name": "stdout",
          "text": [
            "Model performances:\n",
            "Test cross entropy loss : 0.035991519689559937 \n",
            "Test classification Accuracy: 0.9907000064849854\n",
            "\n",
            "New model performances:\n",
            "Test cross entropy loss : 0.0213153176009655 \n",
            "Test classification Accuracy: 0.9929999709129333 \n",
            "\n",
            "time: 3.2 s (started: 2021-11-25 17:03:39 +00:00)\n"
          ]
        }
      ]
    },
    {
      "cell_type": "code",
      "metadata": {
        "colab": {
          "base_uri": "https://localhost:8080/",
          "height": 748
        },
        "id": "IoIJgEU5rkvM",
        "outputId": "a9adee4d-a92c-4e6e-9422-ff4701d2d716"
      },
      "source": [
        "fig = plt.figure(figsize=(10,10)) \n",
        "plt.subplot(2,1,1)\n",
        "plt.plot(new_CNN_history.history['accuracy'], color=\"blue\")\n",
        "plt.plot(new_CNN_history.history['val_accuracy'], color=\"red\")\n",
        "plt.title('New accuracy model', fontdict={\"fontsize\":14, \"fontweight\":\"bold\"})\n",
        "plt.ylabel('Accuracy')\n",
        "plt.xlabel('Epochs')\n",
        "plt.xticks(np.arange(0,25))\n",
        "plt.legend(['train','test'],loc='lower right')\n",
        "\n",
        "plt.subplot(2,1,2)\n",
        "plt.plot(new_CNN_history.history['loss'], color=\"blue\")\n",
        "plt.plot(new_CNN_history.history['val_loss'], color=\"red\")\n",
        "plt.title('New cross entropy loss model',fontdict={\"fontsize\":14, \"fontweight\":\"bold\"})\n",
        "plt.ylabel('Cross entropy loss')\n",
        "plt.xlabel('Epochs')\n",
        "plt.xticks(np.arange(0,25))\n",
        "plt.legend(['train','test'], loc='upper right')\n",
        "\n",
        "plt.tight_layout()"
      ],
      "execution_count": 35,
      "outputs": [
        {
          "output_type": "display_data",
          "data": {
            "image/png": "[encoded data removed]",
            "text/plain": [
              "<Figure size 720x720 with 2 Axes>"
            ]
          },
          "metadata": {
            "needs_background": "light"
          }
        },
        {
          "output_type": "stream",
          "name": "stdout",
          "text": [
            "time: 634 ms (started: 2021-11-25 17:03:42 +00:00)\n"
          ]
        }
      ]
    },
    {
      "cell_type": "markdown",
      "metadata": {
        "id": "BNxnKs69tibJ"
      },
      "source": [
        "We achieved our goals. The performance of the model improved both as regards the accuracy and as regards the cross entropy loss. We can observe that the cross entropy loss test is lower than the train cross entropy loss along the epochs, contrary to what we saw in the previous model. Another evidence of the improvements made to the model is given by the test accuracy, which has no peaks and is higher than the train accuracy in each epoch."
      ]
    },
    {
      "cell_type": "markdown",
      "metadata": {
        "id": "naZGB4x59hV5"
      },
      "source": [
        "## Discussion\n",
        "\n",
        "The aim of the project is to build a  classifier of handwritten figures and test their performance. Several models have been statistically tested in the project, but certainly the most performing is the CNN model which has a higher accuracy than the others, but also makes fewer misclassification errors.\n",
        "The random forest model also provides excellent performance and is really simple to implement. We must take into consideration that the accuracy values ​​produced by our models have been influenced by the use of the deskewing procedure.\n",
        "\n",
        "\n",
        "\n"
      ]
    },
    {
      "cell_type": "code",
      "metadata": {
        "colab": {
          "base_uri": "https://localhost:8080/"
        },
        "id": "_nOQ9eVLCsZ-",
        "outputId": "33e2b3bf-235d-4966-a827-4980324718d2"
      },
      "source": [
        "CNN_accuracy= round(CNN_accuracy,3)\n",
        "new_CNN_accuracy=round(new_CNN_accuracy,3)\n",
        "\n",
        "print(\"The accuracy of Decision tree is:\", Accuracy)\n",
        "print(\"\\nThe accuracy of Random forest is:\", top_accuracy[n_tree_with_high_accuracy])\n",
        "print(\"\\nThe accuracy of CNN is:\", CNN_accuracy)\n",
        "print(\"\\nThe accuracy of CNN improved is:\", new_CNN_accuracy,\"\\n\")\n"
      ],
      "execution_count": 39,
      "outputs": [
        {
          "output_type": "stream",
          "name": "stdout",
          "text": [
            "The accuracy of Decision tree is: 0.9118\n",
            "\n",
            "The accuracy of Random forest is: 0.9771\n",
            "\n",
            "The accuracy of CNN is: 0.991\n",
            "\n",
            "The accuracy of CNN improved is: 0.993 \n",
            "\n",
            "time: 12.2 ms (started: 2021-11-25 17:32:11 +00:00)\n"
          ]
        }
      ]
    },
    {
      "cell_type": "code",
      "metadata": {
        "colab": {
          "base_uri": "https://localhost:8080/"
        },
        "id": "ZHmkk0S0Mhw8",
        "outputId": "d6126ea9-d329-4d1c-ce89-07271c43251e"
      },
      "source": [
        "print(\"The time needed to perform all operations is:\",datetime.now()-start)"
      ],
      "execution_count": 37,
      "outputs": [
        {
          "output_type": "stream",
          "name": "stdout",
          "text": [
            "The time needed to perform all operations is: 0:36:50.608941\n",
            "time: 3.42 ms (started: 2021-11-25 17:03:43 +00:00)\n"
          ]
        }
      ]
    }
  ]
}